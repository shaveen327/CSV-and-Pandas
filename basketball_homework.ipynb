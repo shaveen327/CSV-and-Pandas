{
  "nbformat": 4,
  "nbformat_minor": 0,
  "metadata": {
    "colab": {
      "provenance": []
    },
    "kernelspec": {
      "name": "python3",
      "display_name": "Python 3"
    },
    "language_info": {
      "name": "python"
    }
  },
  "cells": [
    {
      "cell_type": "code",
      "execution_count": 11,
      "metadata": {
        "id": "aEolqblqff3w",
        "colab": {
          "base_uri": "https://localhost:8080/",
          "height": 342
        },
        "outputId": "f13d79e9-e7b3-4e18-b8b5-4c240d885eda"
      },
      "outputs": [
        {
          "output_type": "execute_result",
          "data": {
            "text/plain": [
              "  Unnamed: 0     Unnamed: 1 Unnamed: 2 Unnamed: 3      Unnamed: 4 Totals  \\\n",
              "0         Rk         Player      Class        Pos          School      G   \n",
              "1          1   Amaree Abram         SO          G    Georgia Tech     10   \n",
              "2          2   Sola Adebisi         FR          F   Florida State      7   \n",
              "3          3  Prince Aligbe         SO          F  Boston College     35   \n",
              "4          4     Abe Atiyeh         SR          G  Boston College      4   \n",
              "\n",
              "  Unnamed: 6 Unnamed: 7 Unnamed: 8 Unnamed: 9  ... Unnamed: 11 Unnamed: 12  \\\n",
              "0         MP        TRB        AST        STL  ...         TOV          PF   \n",
              "1        108         17         11          1  ...           9          10   \n",
              "2          9          1          1          0  ...           1           1   \n",
              "3        651        119         21         15  ...          30          51   \n",
              "4          6          0          0          0  ...           1           0   \n",
              "\n",
              "  Unnamed: 13 Shooting Unnamed: 15 Unnamed: 16 Unnamed: 17 Advanced  \\\n",
              "0         PTS      FG%         2P%         3P%         FT%      PER   \n",
              "1          34    0.262       0.318         0.2       0.615      4.1   \n",
              "2           2      0.5         0.5         NaN         NaN      3.5   \n",
              "3         164    0.435       0.522       0.147        0.62      9.4   \n",
              "4           3    0.333           0           1         NaN      1.1   \n",
              "\n",
              "  Unnamed: 19 Unnamed: 20  \n",
              "0          WS         BPM  \n",
              "1        -0.1        -6.4  \n",
              "2           0        -6.7  \n",
              "3         0.9        -1.3  \n",
              "4           0        -8.2  \n",
              "\n",
              "[5 rows x 21 columns]"
            ],
            "text/html": [
              "\n",
              "  <div id=\"df-15d631af-ec54-4738-bcac-529c203233a4\" class=\"colab-df-container\">\n",
              "    <div>\n",
              "<style scoped>\n",
              "    .dataframe tbody tr th:only-of-type {\n",
              "        vertical-align: middle;\n",
              "    }\n",
              "\n",
              "    .dataframe tbody tr th {\n",
              "        vertical-align: top;\n",
              "    }\n",
              "\n",
              "    .dataframe thead th {\n",
              "        text-align: right;\n",
              "    }\n",
              "</style>\n",
              "<table border=\"1\" class=\"dataframe\">\n",
              "  <thead>\n",
              "    <tr style=\"text-align: right;\">\n",
              "      <th></th>\n",
              "      <th>Unnamed: 0</th>\n",
              "      <th>Unnamed: 1</th>\n",
              "      <th>Unnamed: 2</th>\n",
              "      <th>Unnamed: 3</th>\n",
              "      <th>Unnamed: 4</th>\n",
              "      <th>Totals</th>\n",
              "      <th>Unnamed: 6</th>\n",
              "      <th>Unnamed: 7</th>\n",
              "      <th>Unnamed: 8</th>\n",
              "      <th>Unnamed: 9</th>\n",
              "      <th>...</th>\n",
              "      <th>Unnamed: 11</th>\n",
              "      <th>Unnamed: 12</th>\n",
              "      <th>Unnamed: 13</th>\n",
              "      <th>Shooting</th>\n",
              "      <th>Unnamed: 15</th>\n",
              "      <th>Unnamed: 16</th>\n",
              "      <th>Unnamed: 17</th>\n",
              "      <th>Advanced</th>\n",
              "      <th>Unnamed: 19</th>\n",
              "      <th>Unnamed: 20</th>\n",
              "    </tr>\n",
              "  </thead>\n",
              "  <tbody>\n",
              "    <tr>\n",
              "      <th>0</th>\n",
              "      <td>Rk</td>\n",
              "      <td>Player</td>\n",
              "      <td>Class</td>\n",
              "      <td>Pos</td>\n",
              "      <td>School</td>\n",
              "      <td>G</td>\n",
              "      <td>MP</td>\n",
              "      <td>TRB</td>\n",
              "      <td>AST</td>\n",
              "      <td>STL</td>\n",
              "      <td>...</td>\n",
              "      <td>TOV</td>\n",
              "      <td>PF</td>\n",
              "      <td>PTS</td>\n",
              "      <td>FG%</td>\n",
              "      <td>2P%</td>\n",
              "      <td>3P%</td>\n",
              "      <td>FT%</td>\n",
              "      <td>PER</td>\n",
              "      <td>WS</td>\n",
              "      <td>BPM</td>\n",
              "    </tr>\n",
              "    <tr>\n",
              "      <th>1</th>\n",
              "      <td>1</td>\n",
              "      <td>Amaree Abram</td>\n",
              "      <td>SO</td>\n",
              "      <td>G</td>\n",
              "      <td>Georgia Tech</td>\n",
              "      <td>10</td>\n",
              "      <td>108</td>\n",
              "      <td>17</td>\n",
              "      <td>11</td>\n",
              "      <td>1</td>\n",
              "      <td>...</td>\n",
              "      <td>9</td>\n",
              "      <td>10</td>\n",
              "      <td>34</td>\n",
              "      <td>0.262</td>\n",
              "      <td>0.318</td>\n",
              "      <td>0.2</td>\n",
              "      <td>0.615</td>\n",
              "      <td>4.1</td>\n",
              "      <td>-0.1</td>\n",
              "      <td>-6.4</td>\n",
              "    </tr>\n",
              "    <tr>\n",
              "      <th>2</th>\n",
              "      <td>2</td>\n",
              "      <td>Sola Adebisi</td>\n",
              "      <td>FR</td>\n",
              "      <td>F</td>\n",
              "      <td>Florida State</td>\n",
              "      <td>7</td>\n",
              "      <td>9</td>\n",
              "      <td>1</td>\n",
              "      <td>1</td>\n",
              "      <td>0</td>\n",
              "      <td>...</td>\n",
              "      <td>1</td>\n",
              "      <td>1</td>\n",
              "      <td>2</td>\n",
              "      <td>0.5</td>\n",
              "      <td>0.5</td>\n",
              "      <td>NaN</td>\n",
              "      <td>NaN</td>\n",
              "      <td>3.5</td>\n",
              "      <td>0</td>\n",
              "      <td>-6.7</td>\n",
              "    </tr>\n",
              "    <tr>\n",
              "      <th>3</th>\n",
              "      <td>3</td>\n",
              "      <td>Prince Aligbe</td>\n",
              "      <td>SO</td>\n",
              "      <td>F</td>\n",
              "      <td>Boston College</td>\n",
              "      <td>35</td>\n",
              "      <td>651</td>\n",
              "      <td>119</td>\n",
              "      <td>21</td>\n",
              "      <td>15</td>\n",
              "      <td>...</td>\n",
              "      <td>30</td>\n",
              "      <td>51</td>\n",
              "      <td>164</td>\n",
              "      <td>0.435</td>\n",
              "      <td>0.522</td>\n",
              "      <td>0.147</td>\n",
              "      <td>0.62</td>\n",
              "      <td>9.4</td>\n",
              "      <td>0.9</td>\n",
              "      <td>-1.3</td>\n",
              "    </tr>\n",
              "    <tr>\n",
              "      <th>4</th>\n",
              "      <td>4</td>\n",
              "      <td>Abe Atiyeh</td>\n",
              "      <td>SR</td>\n",
              "      <td>G</td>\n",
              "      <td>Boston College</td>\n",
              "      <td>4</td>\n",
              "      <td>6</td>\n",
              "      <td>0</td>\n",
              "      <td>0</td>\n",
              "      <td>0</td>\n",
              "      <td>...</td>\n",
              "      <td>1</td>\n",
              "      <td>0</td>\n",
              "      <td>3</td>\n",
              "      <td>0.333</td>\n",
              "      <td>0</td>\n",
              "      <td>1</td>\n",
              "      <td>NaN</td>\n",
              "      <td>1.1</td>\n",
              "      <td>0</td>\n",
              "      <td>-8.2</td>\n",
              "    </tr>\n",
              "  </tbody>\n",
              "</table>\n",
              "<p>5 rows × 21 columns</p>\n",
              "</div>\n",
              "    <div class=\"colab-df-buttons\">\n",
              "\n",
              "  <div class=\"colab-df-container\">\n",
              "    <button class=\"colab-df-convert\" onclick=\"convertToInteractive('df-15d631af-ec54-4738-bcac-529c203233a4')\"\n",
              "            title=\"Convert this dataframe to an interactive table.\"\n",
              "            style=\"display:none;\">\n",
              "\n",
              "  <svg xmlns=\"http://www.w3.org/2000/svg\" height=\"24px\" viewBox=\"0 -960 960 960\">\n",
              "    <path d=\"M120-120v-720h720v720H120Zm60-500h600v-160H180v160Zm220 220h160v-160H400v160Zm0 220h160v-160H400v160ZM180-400h160v-160H180v160Zm440 0h160v-160H620v160ZM180-180h160v-160H180v160Zm440 0h160v-160H620v160Z\"/>\n",
              "  </svg>\n",
              "    </button>\n",
              "\n",
              "  <style>\n",
              "    .colab-df-container {\n",
              "      display:flex;\n",
              "      gap: 12px;\n",
              "    }\n",
              "\n",
              "    .colab-df-convert {\n",
              "      background-color: #E8F0FE;\n",
              "      border: none;\n",
              "      border-radius: 50%;\n",
              "      cursor: pointer;\n",
              "      display: none;\n",
              "      fill: #1967D2;\n",
              "      height: 32px;\n",
              "      padding: 0 0 0 0;\n",
              "      width: 32px;\n",
              "    }\n",
              "\n",
              "    .colab-df-convert:hover {\n",
              "      background-color: #E2EBFA;\n",
              "      box-shadow: 0px 1px 2px rgba(60, 64, 67, 0.3), 0px 1px 3px 1px rgba(60, 64, 67, 0.15);\n",
              "      fill: #174EA6;\n",
              "    }\n",
              "\n",
              "    .colab-df-buttons div {\n",
              "      margin-bottom: 4px;\n",
              "    }\n",
              "\n",
              "    [theme=dark] .colab-df-convert {\n",
              "      background-color: #3B4455;\n",
              "      fill: #D2E3FC;\n",
              "    }\n",
              "\n",
              "    [theme=dark] .colab-df-convert:hover {\n",
              "      background-color: #434B5C;\n",
              "      box-shadow: 0px 1px 3px 1px rgba(0, 0, 0, 0.15);\n",
              "      filter: drop-shadow(0px 1px 2px rgba(0, 0, 0, 0.3));\n",
              "      fill: #FFFFFF;\n",
              "    }\n",
              "  </style>\n",
              "\n",
              "    <script>\n",
              "      const buttonEl =\n",
              "        document.querySelector('#df-15d631af-ec54-4738-bcac-529c203233a4 button.colab-df-convert');\n",
              "      buttonEl.style.display =\n",
              "        google.colab.kernel.accessAllowed ? 'block' : 'none';\n",
              "\n",
              "      async function convertToInteractive(key) {\n",
              "        const element = document.querySelector('#df-15d631af-ec54-4738-bcac-529c203233a4');\n",
              "        const dataTable =\n",
              "          await google.colab.kernel.invokeFunction('convertToInteractive',\n",
              "                                                    [key], {});\n",
              "        if (!dataTable) return;\n",
              "\n",
              "        const docLinkHtml = 'Like what you see? Visit the ' +\n",
              "          '<a target=\"_blank\" href=https://colab.research.google.com/notebooks/data_table.ipynb>data table notebook</a>'\n",
              "          + ' to learn more about interactive tables.';\n",
              "        element.innerHTML = '';\n",
              "        dataTable['output_type'] = 'display_data';\n",
              "        await google.colab.output.renderOutput(dataTable, element);\n",
              "        const docLink = document.createElement('div');\n",
              "        docLink.innerHTML = docLinkHtml;\n",
              "        element.appendChild(docLink);\n",
              "      }\n",
              "    </script>\n",
              "  </div>\n",
              "\n",
              "\n",
              "<div id=\"df-bd66d9ac-7d64-4043-bcd6-8ef810c9c0d2\">\n",
              "  <button class=\"colab-df-quickchart\" onclick=\"quickchart('df-bd66d9ac-7d64-4043-bcd6-8ef810c9c0d2')\"\n",
              "            title=\"Suggest charts\"\n",
              "            style=\"display:none;\">\n",
              "\n",
              "<svg xmlns=\"http://www.w3.org/2000/svg\" height=\"24px\"viewBox=\"0 0 24 24\"\n",
              "     width=\"24px\">\n",
              "    <g>\n",
              "        <path d=\"M19 3H5c-1.1 0-2 .9-2 2v14c0 1.1.9 2 2 2h14c1.1 0 2-.9 2-2V5c0-1.1-.9-2-2-2zM9 17H7v-7h2v7zm4 0h-2V7h2v10zm4 0h-2v-4h2v4z\"/>\n",
              "    </g>\n",
              "</svg>\n",
              "  </button>\n",
              "\n",
              "<style>\n",
              "  .colab-df-quickchart {\n",
              "      --bg-color: #E8F0FE;\n",
              "      --fill-color: #1967D2;\n",
              "      --hover-bg-color: #E2EBFA;\n",
              "      --hover-fill-color: #174EA6;\n",
              "      --disabled-fill-color: #AAA;\n",
              "      --disabled-bg-color: #DDD;\n",
              "  }\n",
              "\n",
              "  [theme=dark] .colab-df-quickchart {\n",
              "      --bg-color: #3B4455;\n",
              "      --fill-color: #D2E3FC;\n",
              "      --hover-bg-color: #434B5C;\n",
              "      --hover-fill-color: #FFFFFF;\n",
              "      --disabled-bg-color: #3B4455;\n",
              "      --disabled-fill-color: #666;\n",
              "  }\n",
              "\n",
              "  .colab-df-quickchart {\n",
              "    background-color: var(--bg-color);\n",
              "    border: none;\n",
              "    border-radius: 50%;\n",
              "    cursor: pointer;\n",
              "    display: none;\n",
              "    fill: var(--fill-color);\n",
              "    height: 32px;\n",
              "    padding: 0;\n",
              "    width: 32px;\n",
              "  }\n",
              "\n",
              "  .colab-df-quickchart:hover {\n",
              "    background-color: var(--hover-bg-color);\n",
              "    box-shadow: 0 1px 2px rgba(60, 64, 67, 0.3), 0 1px 3px 1px rgba(60, 64, 67, 0.15);\n",
              "    fill: var(--button-hover-fill-color);\n",
              "  }\n",
              "\n",
              "  .colab-df-quickchart-complete:disabled,\n",
              "  .colab-df-quickchart-complete:disabled:hover {\n",
              "    background-color: var(--disabled-bg-color);\n",
              "    fill: var(--disabled-fill-color);\n",
              "    box-shadow: none;\n",
              "  }\n",
              "\n",
              "  .colab-df-spinner {\n",
              "    border: 2px solid var(--fill-color);\n",
              "    border-color: transparent;\n",
              "    border-bottom-color: var(--fill-color);\n",
              "    animation:\n",
              "      spin 1s steps(1) infinite;\n",
              "  }\n",
              "\n",
              "  @keyframes spin {\n",
              "    0% {\n",
              "      border-color: transparent;\n",
              "      border-bottom-color: var(--fill-color);\n",
              "      border-left-color: var(--fill-color);\n",
              "    }\n",
              "    20% {\n",
              "      border-color: transparent;\n",
              "      border-left-color: var(--fill-color);\n",
              "      border-top-color: var(--fill-color);\n",
              "    }\n",
              "    30% {\n",
              "      border-color: transparent;\n",
              "      border-left-color: var(--fill-color);\n",
              "      border-top-color: var(--fill-color);\n",
              "      border-right-color: var(--fill-color);\n",
              "    }\n",
              "    40% {\n",
              "      border-color: transparent;\n",
              "      border-right-color: var(--fill-color);\n",
              "      border-top-color: var(--fill-color);\n",
              "    }\n",
              "    60% {\n",
              "      border-color: transparent;\n",
              "      border-right-color: var(--fill-color);\n",
              "    }\n",
              "    80% {\n",
              "      border-color: transparent;\n",
              "      border-right-color: var(--fill-color);\n",
              "      border-bottom-color: var(--fill-color);\n",
              "    }\n",
              "    90% {\n",
              "      border-color: transparent;\n",
              "      border-bottom-color: var(--fill-color);\n",
              "    }\n",
              "  }\n",
              "</style>\n",
              "\n",
              "  <script>\n",
              "    async function quickchart(key) {\n",
              "      const quickchartButtonEl =\n",
              "        document.querySelector('#' + key + ' button');\n",
              "      quickchartButtonEl.disabled = true;  // To prevent multiple clicks.\n",
              "      quickchartButtonEl.classList.add('colab-df-spinner');\n",
              "      try {\n",
              "        const charts = await google.colab.kernel.invokeFunction(\n",
              "            'suggestCharts', [key], {});\n",
              "      } catch (error) {\n",
              "        console.error('Error during call to suggestCharts:', error);\n",
              "      }\n",
              "      quickchartButtonEl.classList.remove('colab-df-spinner');\n",
              "      quickchartButtonEl.classList.add('colab-df-quickchart-complete');\n",
              "    }\n",
              "    (() => {\n",
              "      let quickchartButtonEl =\n",
              "        document.querySelector('#df-bd66d9ac-7d64-4043-bcd6-8ef810c9c0d2 button');\n",
              "      quickchartButtonEl.style.display =\n",
              "        google.colab.kernel.accessAllowed ? 'block' : 'none';\n",
              "    })();\n",
              "  </script>\n",
              "</div>\n",
              "\n",
              "    </div>\n",
              "  </div>\n"
            ],
            "application/vnd.google.colaboratory.intrinsic+json": {
              "type": "dataframe",
              "variable_name": "basketball_df"
            }
          },
          "metadata": {},
          "execution_count": 11
        }
      ],
      "source": [
        "import pandas as pd\n",
        "\n",
        "basketball_df = pd.read_csv('acc_players-2324F.csv')\n",
        "basketball_df.head(5)"
      ]
    },
    {
      "cell_type": "code",
      "source": [
        "print(basketball_df.columns)"
      ],
      "metadata": {
        "colab": {
          "base_uri": "https://localhost:8080/"
        },
        "id": "cWjG9ep9iEIp",
        "outputId": "8b7504e8-f7ea-4d79-a485-256a70b9644d"
      },
      "execution_count": 6,
      "outputs": [
        {
          "output_type": "stream",
          "name": "stdout",
          "text": [
            "Index(['Unnamed: 0', 'Unnamed: 1', 'Unnamed: 2', 'Unnamed: 3', 'Unnamed: 4',\n",
            "       'Totals', 'Unnamed: 6', 'Unnamed: 7', 'Unnamed: 8', 'Unnamed: 9',\n",
            "       'Unnamed: 10', 'Unnamed: 11', 'Unnamed: 12', 'Unnamed: 13', 'Shooting',\n",
            "       'Unnamed: 15', 'Unnamed: 16', 'Unnamed: 17', 'Advanced', 'Unnamed: 19',\n",
            "       'Unnamed: 20'],\n",
            "      dtype='object')\n"
          ]
        }
      ]
    },
    {
      "cell_type": "code",
      "source": [
        "# Calculate the total points scored by all players combined\n",
        "\n",
        "basketball_df = basketball_df.iloc[1:].copy()\n",
        "\n",
        "basketball_df['Unnamed: 13'] = pd.to_numeric(basketball_df['Unnamed: 13'])\n",
        "total_points = basketball_df['Unnamed: 13'].sum()\n",
        "print(total_points)"
      ],
      "metadata": {
        "colab": {
          "base_uri": "https://localhost:8080/"
        },
        "id": "YhzSYrXhg6CQ",
        "outputId": "e81cb573-30bc-40d1-e3de-dce11fdab6aa"
      },
      "execution_count": 45,
      "outputs": [
        {
          "output_type": "stream",
          "name": "stdout",
          "text": [
            "38377\n"
          ]
        }
      ]
    },
    {
      "cell_type": "code",
      "source": [
        "# Find the player who has played the most minutes (MP)\n",
        "\n",
        "basketball_df['Unnamed: 6'] = pd.to_numeric(basketball_df['Unnamed: 6'])\n",
        "max_minutes = basketball_df['Unnamed: 6'].max()\n",
        "\n",
        "player_with_most_minutes = basketball_df.loc[basketball_df['Unnamed: 6'] == max_minutes, 'Unnamed: 1'].values[0]\n",
        "\n",
        "print(player_with_most_minutes)"
      ],
      "metadata": {
        "colab": {
          "base_uri": "https://localhost:8080/"
        },
        "id": "VdT8V_eCkzO3",
        "outputId": "e68ec75a-ba66-4bc9-82ea-1ff3192ab64e"
      },
      "execution_count": 17,
      "outputs": [
        {
          "output_type": "stream",
          "name": "stdout",
          "text": [
            "Casey Morsell\n"
          ]
        }
      ]
    },
    {
      "cell_type": "code",
      "source": [
        "# Identify the top 5 players in terms of total rebounds (TRB).\n",
        "\n",
        "basketball_df['Unnamed: 7'] = pd.to_numeric(basketball_df['Unnamed: 7'])\n",
        "top_5_players_rebounds = basketball_df.nlargest(5, 'Unnamed: 7')\n",
        "\n",
        "top_5_players_rebounds = top_5_players_rebounds[['Unnamed: 1', 'Unnamed: 7']]\n",
        "\n",
        "print(top_5_players_rebounds)"
      ],
      "metadata": {
        "colab": {
          "base_uri": "https://localhost:8080/"
        },
        "id": "yTmQNjbAki4Q",
        "outputId": "84744204-009b-4ab0-d82e-23dffa1cfd07"
      },
      "execution_count": 18,
      "outputs": [
        {
          "output_type": "stream",
          "name": "stdout",
          "text": [
            "          Unnamed: 1  Unnamed: 7\n",
            "6      Armando Bacot         380\n",
            "179  Ian Schieffelin         340\n",
            "91   Harrison Ingram         327\n",
            "45    Mohamed Diarra         311\n",
            "150    Norchad Omier         309\n"
          ]
        }
      ]
    },
    {
      "cell_type": "code",
      "source": [
        "# Create a new DataFrame containing only players who played more than 500 minutes.\n",
        "\n",
        "new_df = basketball_df[basketball_df['Unnamed: 6'] > 500].copy()\n",
        "print(new_df.head(5))"
      ],
      "metadata": {
        "colab": {
          "base_uri": "https://localhost:8080/"
        },
        "id": "bS39Out5mL-V",
        "outputId": "9a32216e-666d-4d6b-daf5-64a04a3f0235"
      },
      "execution_count": 47,
      "outputs": [
        {
          "output_type": "stream",
          "name": "stdout",
          "text": [
            "   Unnamed: 0     Unnamed: 1 Unnamed: 2 Unnamed: 3      Unnamed: 4 Totals  \\\n",
            "3           3  Prince Aligbe         SO          F  Boston College     35   \n",
            "5           5    Zack Austin         JR          F      Pittsburgh     33   \n",
            "6           6  Armando Bacot         SR          F  North Carolina     37   \n",
            "8           8  Reece Beekman         SR          G        Virginia     34   \n",
            "10         10     Chris Bell         SO          F        Syracuse     32   \n",
            "\n",
            "    Unnamed: 6  Unnamed: 7  Unnamed: 8 Unnamed: 9  ... Unnamed: 11  \\\n",
            "3          651         119          21         15  ...          30   \n",
            "5          746         137          29         32  ...          13   \n",
            "6         1123         380          56         22  ...          60   \n",
            "8         1114         124         212         68  ...          70   \n",
            "10         865          75          21         18  ...          26   \n",
            "\n",
            "   Unnamed: 12 Unnamed: 13  Shooting Unnamed: 15 Unnamed: 16 Unnamed: 17  \\\n",
            "3           51         164     0.435       0.522       0.147        0.62   \n",
            "5           35         216     0.417       0.563       0.295       0.737   \n",
            "6          100         538      0.54       0.544         0.4       0.781   \n",
            "8           43         486     0.443       0.487        0.31       0.754   \n",
            "10          58         384     0.434       0.459        0.42       0.842   \n",
            "\n",
            "   Advanced Unnamed: 19 Unnamed: 20  \n",
            "3       9.4         0.9        -1.3  \n",
            "5        18         2.9         7.9  \n",
            "6      24.6         6.1         8.9  \n",
            "8      23.4         4.9        10.5  \n",
            "10     14.9         2.2         3.3  \n",
            "\n",
            "[5 rows x 21 columns]\n"
          ]
        }
      ]
    },
    {
      "cell_type": "code",
      "source": [
        "# From this filtered DataFrame, determine the player with the highest total assists (AST).\n",
        "\n",
        "new_df['Unnamed: 8'] = pd.to_numeric(new_df['Unnamed: 8'])\n",
        "player_with_highest_assists = new_df.loc[new_df['Unnamed: 8'] == new_df['Unnamed: 8'].max(), 'Unnamed: 1']\n",
        "\n",
        "print(player_with_highest_assists)"
      ],
      "metadata": {
        "colab": {
          "base_uri": "https://localhost:8080/"
        },
        "id": "hXsKe75anjs6",
        "outputId": "a1b63b67-81aa-4789-96a5-00fafe1e140b"
      },
      "execution_count": 48,
      "outputs": [
        {
          "output_type": "stream",
          "name": "stdout",
          "text": [
            "8    Reece Beekman\n",
            "Name: Unnamed: 1, dtype: object\n"
          ]
        }
      ]
    },
    {
      "cell_type": "code",
      "source": [
        "# Who are the top 3 Assist Leads in the League?\n",
        "\n",
        "assist_leads = new_df.nlargest(3, 'Unnamed: 8')\n",
        "assist_leads = assist_leads[['Unnamed: 1', 'Unnamed: 8']]\n",
        "print(assist_leads)"
      ],
      "metadata": {
        "colab": {
          "base_uri": "https://localhost:8080/"
        },
        "id": "mqUHR5Egonah",
        "outputId": "400d3003-be5b-4008-d2cf-048e46878aae"
      },
      "execution_count": 43,
      "outputs": [
        {
          "output_type": "stream",
          "name": "stdout",
          "text": [
            "         Unnamed: 1  Unnamed: 8\n",
            "8     Reece Beekman         212\n",
            "216  Jaeden Zackery         152\n",
            "22    Elliot Cadeau         150\n"
          ]
        }
      ]
    },
    {
      "cell_type": "code",
      "source": [
        "# Who are the top 3 Shot Blockers?\n",
        "\n",
        "new_df['Unnamed: 10'] = pd.to_numeric(new_df['Unnamed: 10'])\n",
        "shot_blockers = new_df.nlargest(3, 'Unnamed: 10')\n",
        "shot_blockers = shot_blockers[['Unnamed: 1', 'Unnamed: 10']]\n",
        "print(shot_blockers)"
      ],
      "metadata": {
        "colab": {
          "base_uri": "https://localhost:8080/"
        },
        "id": "vMkjFsD2pRda",
        "outputId": "875433d0-74b2-44c9-a2e6-3b0c79e0a76a"
      },
      "execution_count": 49,
      "outputs": [
        {
          "output_type": "stream",
          "name": "stdout",
          "text": [
            "        Unnamed: 1  Unnamed: 10\n",
            "52       Ryan Dunn           77\n",
            "158   Quinten Post           61\n",
            "6    Armando Bacot           56\n"
          ]
        }
      ]
    },
    {
      "cell_type": "code",
      "source": [
        "# Group the players by School and calculate the total points scored by each school.\n",
        "\n",
        "total_points_by_school = basketball_df.groupby('Unnamed: 4')['Unnamed: 13'].sum()\n",
        "print(total_points_by_school)"
      ],
      "metadata": {
        "colab": {
          "base_uri": "https://localhost:8080/"
        },
        "id": "Qlz76XEFqh4B",
        "outputId": "0b5c052c-ca85-49ac-df63-ab20966ae612"
      },
      "execution_count": 34,
      "outputs": [
        {
          "output_type": "stream",
          "name": "stdout",
          "text": [
            "Unnamed: 4\n",
            "Boston College    2667\n",
            "Clemson           2785\n",
            "Duke              2830\n",
            "Florida State     2526\n",
            "Georgia Tech      2272\n",
            "Louisville        2304\n",
            "Miami (FL)        2424\n",
            "NC State          3101\n",
            "North Carolina    3032\n",
            "Notre Dame        2113\n",
            "Pittsburgh        2495\n",
            "Syracuse          2442\n",
            "Virginia          2140\n",
            "Virginia Tech     2547\n",
            "Wake Forest       2733\n",
            "Name: Unnamed: 13, dtype: int64\n"
          ]
        }
      ]
    },
    {
      "cell_type": "code",
      "source": [
        "# Group the players by School and calculate the total assists (AST) for each team.\n",
        "\n",
        "total_asts_by_school = basketball_df.groupby('Unnamed: 4')['Unnamed: 8'].sum()\n",
        "print(total_asts_by_school)"
      ],
      "metadata": {
        "colab": {
          "base_uri": "https://localhost:8080/"
        },
        "id": "97ZyASpwrFNu",
        "outputId": "1f730209-05e7-4b57-a9c8-d6b9625c86fb"
      },
      "execution_count": 35,
      "outputs": [
        {
          "output_type": "stream",
          "name": "stdout",
          "text": [
            "Unnamed: 4\n",
            "Boston College    509\n",
            "Clemson           533\n",
            "Duke              551\n",
            "Florida State     406\n",
            "Georgia Tech      425\n",
            "Louisville        356\n",
            "Miami (FL)        454\n",
            "NC State          536\n",
            "North Carolina    536\n",
            "Notre Dame        335\n",
            "Pittsburgh        452\n",
            "Syracuse          442\n",
            "Virginia          509\n",
            "Virginia Tech     514\n",
            "Wake Forest       429\n",
            "Name: Unnamed: 8, dtype: int64\n"
          ]
        }
      ]
    },
    {
      "cell_type": "code",
      "source": [
        "# Sort the schools by total points scored and display the top 3 schools.\n",
        "\n",
        "sorted_schools_by_total = total_points_by_school.sort_values(ascending=False)\n",
        "top_3_schools = sorted_schools_by_total.head(3)\n",
        "print(top_3_schools)"
      ],
      "metadata": {
        "colab": {
          "base_uri": "https://localhost:8080/"
        },
        "id": "rpPI7VbqrTeC",
        "outputId": "f12fccde-803f-457e-c73a-5146e0592398"
      },
      "execution_count": 40,
      "outputs": [
        {
          "output_type": "stream",
          "name": "stdout",
          "text": [
            "Unnamed: 4\n",
            "NC State          3101\n",
            "North Carolina    3032\n",
            "Duke              2830\n",
            "Name: Unnamed: 13, dtype: int64\n"
          ]
        }
      ]
    }
  ]
}